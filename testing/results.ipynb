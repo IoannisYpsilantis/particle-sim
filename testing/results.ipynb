{
 "cells": [
  {
   "cell_type": "code",
   "execution_count": 34,
   "metadata": {},
   "outputs": [],
   "source": [
    "import numpy as np\n",
    "import matplotlib.pyplot as plt\n",
    "\n",
    "from correctness import *"
   ]
  },
  {
   "cell_type": "markdown",
   "metadata": {},
   "source": [
    "path, file1, file2 determine the runs being compared"
   ]
  },
  {
   "cell_type": "code",
   "execution_count": 35,
   "metadata": {},
   "outputs": [],
   "source": [
    "path = \"../particle-sim/data/\""
   ]
  },
  {
   "cell_type": "code",
   "execution_count": 36,
   "metadata": {},
   "outputs": [],
   "source": [
    "file1 = \"2024-04-30_23-00-49_CPU_8.txt\"\n",
    "file2 = \"2024-04-30_23-01-01_GPU_8.txt\""
   ]
  },
  {
   "cell_type": "code",
   "execution_count": 37,
   "metadata": {},
   "outputs": [
    {
     "data": {
      "text/html": [
       "<div>\n",
       "<style scoped>\n",
       "    .dataframe tbody tr th:only-of-type {\n",
       "        vertical-align: middle;\n",
       "    }\n",
       "\n",
       "    .dataframe tbody tr th {\n",
       "        vertical-align: top;\n",
       "    }\n",
       "\n",
       "    .dataframe thead th {\n",
       "        text-align: right;\n",
       "    }\n",
       "</style>\n",
       "<table border=\"1\" class=\"dataframe\">\n",
       "  <thead>\n",
       "    <tr style=\"text-align: right;\">\n",
       "      <th>name</th>\n",
       "      <th>particles</th>\n",
       "      <th>iterations</th>\n",
       "      <th>timing</th>\n",
       "      <th>doubleBuffer</th>\n",
       "      <th>device</th>\n",
       "    </tr>\n",
       "  </thead>\n",
       "  <tbody>\n",
       "    <tr>\n",
       "      <th>value</th>\n",
       "      <td>500</td>\n",
       "      <td>100</td>\n",
       "      <td>3675</td>\n",
       "      <td>0</td>\n",
       "      <td>CPU</td>\n",
       "    </tr>\n",
       "  </tbody>\n",
       "</table>\n",
       "</div>"
      ],
      "text/plain": [
       "name  particles iterations timing doubleBuffer device\n",
       "value       500        100   3675            0    CPU"
      ]
     },
     "metadata": {},
     "output_type": "display_data"
    },
    {
     "data": {
      "text/html": [
       "<div>\n",
       "<style scoped>\n",
       "    .dataframe tbody tr th:only-of-type {\n",
       "        vertical-align: middle;\n",
       "    }\n",
       "\n",
       "    .dataframe tbody tr th {\n",
       "        vertical-align: top;\n",
       "    }\n",
       "\n",
       "    .dataframe thead th {\n",
       "        text-align: right;\n",
       "    }\n",
       "</style>\n",
       "<table border=\"1\" class=\"dataframe\">\n",
       "  <thead>\n",
       "    <tr style=\"text-align: right;\">\n",
       "      <th>name</th>\n",
       "      <th>particles</th>\n",
       "      <th>iterations</th>\n",
       "      <th>timing</th>\n",
       "      <th>doubleBuffer</th>\n",
       "      <th>device</th>\n",
       "    </tr>\n",
       "  </thead>\n",
       "  <tbody>\n",
       "    <tr>\n",
       "      <th>value</th>\n",
       "      <td>500</td>\n",
       "      <td>100</td>\n",
       "      <td>716.13</td>\n",
       "      <td>0</td>\n",
       "      <td>GPU</td>\n",
       "    </tr>\n",
       "  </tbody>\n",
       "</table>\n",
       "</div>"
      ],
      "text/plain": [
       "name  particles iterations  timing doubleBuffer device\n",
       "value       500        100  716.13            0    GPU"
      ]
     },
     "metadata": {},
     "output_type": "display_data"
    }
   ],
   "source": [
    "header1, data1 = read_file(path + file1)\n",
    "header2, data2 = read_file(path + file2)\n",
    "\n",
    "data1 = data1.to_numpy()\n",
    "data2 = data2.to_numpy()\n",
    "\n",
    "display(header1)\n",
    "display(header2)"
   ]
  },
  {
   "cell_type": "code",
   "execution_count": 38,
   "metadata": {},
   "outputs": [
    {
     "data": {
      "text/plain": [
       "(True, [])"
      ]
     },
     "execution_count": 38,
     "metadata": {},
     "output_type": "execute_result"
    }
   ],
   "source": [
    "compare_positions(data1.shape[0], data1, data2)"
   ]
  },
  {
   "cell_type": "code",
   "execution_count": 39,
   "metadata": {},
   "outputs": [
    {
     "data": {
      "text/plain": [
       "array([[-1650000., -1199960.,  1738010.,  2000000.],\n",
       "       [-1967960.,  1287970.,  1618060.,  2000000.],\n",
       "       [  942000.,   198094., -1327960.,  2000000.],\n",
       "       ...,\n",
       "       [-1376000.,  1624000., -1414000.,  2000000.],\n",
       "       [  816000., -1190000., -1434000.,  2000000.],\n",
       "       [ -684000.,  1768000., -1486000.,  2000000.]])"
      ]
     },
     "execution_count": 39,
     "metadata": {},
     "output_type": "execute_result"
    }
   ],
   "source": [
    "data1"
   ]
  },
  {
   "cell_type": "code",
   "execution_count": 40,
   "metadata": {},
   "outputs": [
    {
     "data": {
      "text/plain": [
       "array([[-1650000., -1199960.,  1738010.,  2000000.],\n",
       "       [-1967960.,  1287970.,  1618060.,  2000000.],\n",
       "       [  942000.,   198094., -1327960.,  2000000.],\n",
       "       ...,\n",
       "       [-1376000.,  1624000., -1414000.,  2000000.],\n",
       "       [  816000., -1190000., -1434000.,  2000000.],\n",
       "       [ -684000.,  1768000., -1486000.,  2000000.]])"
      ]
     },
     "execution_count": 40,
     "metadata": {},
     "output_type": "execute_result"
    }
   ],
   "source": [
    "data2"
   ]
  },
  {
   "cell_type": "markdown",
   "metadata": {},
   "source": [
    "# Timings\n",
    "\n",
    "Given an id number, this assumes that all trials with same ID are identical except for number of particles in the simulation. \n",
    "\n",
    "Question: Does scaling the problem size matter? YES!\n",
    "\n",
    "Tests: 500 particles 20000 bb\n",
    "       1000 particles 40000 bb\n",
    "       5000 particles 200000 bb\n",
    "       CPU stops here (took 30 minutes at this point for 500 ts.)\n",
    "       10000 particles 400000 bb\n",
    "       20000 particles 800000 bb\n",
    "       30000 particles 1200000 bb\n",
    "       40000 particles 1600000 bb\n",
    "       50000 particles 2000000 bb\n",
    "       75000 particles 3000000 bb\n",
    "       100000 particles 4000000 bb\n",
    "\n",
    "ID 11: CPU default\n",
    "ID 12: GPU naive\n",
    "ID 13: GPU double-buffered\n",
    "ID 14: GPU ordered-particles\n",
    "ID 15: CPU ordered-particles\n",
    "\n",
    "\n",
    "\n",
    "\n",
    "\n"
   ]
  },
  {
   "cell_type": "code",
   "execution_count": 41,
   "metadata": {},
   "outputs": [
    {
     "data": {
      "text/plain": [
       "[20000, 25199, 43089, 54289, 68400, 78298, 86178, 92832, 106266, 116961]"
      ]
     },
     "execution_count": 41,
     "metadata": {},
     "output_type": "execute_result"
    }
   ],
   "source": [
    "numParticles = [500, 1000, 5000, 10000, 20000, 30000, 40000, 50000, 75000, 100000]\n",
    "sizes = []\n",
    "for i in range(len(numParticles)):\n",
    "    if numParticles[i] == 500:\n",
    "        sizes.append(20000)\n",
    "    else:\n",
    "        sizes.append(int(np.ceil((numParticles[i] / 500 * (20000**3))**(1/3))))\n",
    "sizes"
   ]
  },
  {
   "cell_type": "code",
   "execution_count": 42,
   "metadata": {},
   "outputs": [],
   "source": [
    "id11, finalPos11 = get_timing(11, path)\n",
    "id12, finalPos12 = get_timing(18, path)\n",
    "id13, finalPos13 = get_timing(19, path)\n",
    "id14, finalPos14 = get_timing(17, path)\n",
    "id15, finalPos15 = get_timing(15, path)"
   ]
  },
  {
   "cell_type": "code",
   "execution_count": 43,
   "metadata": {},
   "outputs": [],
   "source": [
    "#for key in [500, 1000, 5000, 10000, 50000, 10000]:\n",
    "for key in [500, 1000, 5000]:\n",
    "    dataset = []\n",
    "    if key in finalPos11:\n",
    "        dataset.append(finalPos11[key])\n",
    "    if key in finalPos12:\n",
    "        dataset.append(finalPos12[key])\n",
    "    if key in finalPos13:\n",
    "        dataset.append(finalPos13[key])\n",
    "    if key in finalPos14:\n",
    "        dataset.append(finalPos14[key])\n",
    "    if key in finalPos15:\n",
    "        dataset.append(finalPos15[key])\n",
    "    val, counters = compare_positions(key, dataset[3].to_numpy(), dataset[4].to_numpy())\n",
    "    #print(val)\n",
    "    val1, counters = compare_positions(key, dataset[0].to_numpy(), dataset[1].to_numpy())\n",
    "    val2, counters = compare_positions(key, dataset[1].to_numpy(), dataset[2].to_numpy())\n",
    "    #print(val1 and val2)\n",
    "\n",
    "        "
   ]
  },
  {
   "cell_type": "code",
   "execution_count": 44,
   "metadata": {},
   "outputs": [
    {
     "data": {
      "text/html": [
       "<div>\n",
       "<style scoped>\n",
       "    .dataframe tbody tr th:only-of-type {\n",
       "        vertical-align: middle;\n",
       "    }\n",
       "\n",
       "    .dataframe tbody tr th {\n",
       "        vertical-align: top;\n",
       "    }\n",
       "\n",
       "    .dataframe thead th {\n",
       "        text-align: right;\n",
       "    }\n",
       "</style>\n",
       "<table border=\"1\" class=\"dataframe\">\n",
       "  <thead>\n",
       "    <tr style=\"text-align: right;\">\n",
       "      <th></th>\n",
       "      <th>particles</th>\n",
       "      <th>timing</th>\n",
       "    </tr>\n",
       "  </thead>\n",
       "  <tbody>\n",
       "    <tr>\n",
       "      <th>0</th>\n",
       "      <td>500</td>\n",
       "      <td>6.829580</td>\n",
       "    </tr>\n",
       "    <tr>\n",
       "      <th>1</th>\n",
       "      <td>1000</td>\n",
       "      <td>11.741700</td>\n",
       "    </tr>\n",
       "    <tr>\n",
       "      <th>2</th>\n",
       "      <td>5000</td>\n",
       "      <td>64.435600</td>\n",
       "    </tr>\n",
       "    <tr>\n",
       "      <th>3</th>\n",
       "      <td>10000</td>\n",
       "      <td>118.836400</td>\n",
       "    </tr>\n",
       "    <tr>\n",
       "      <th>4</th>\n",
       "      <td>20000</td>\n",
       "      <td>241.254000</td>\n",
       "    </tr>\n",
       "    <tr>\n",
       "      <th>5</th>\n",
       "      <td>30000</td>\n",
       "      <td>360.562667</td>\n",
       "    </tr>\n",
       "    <tr>\n",
       "      <th>6</th>\n",
       "      <td>40000</td>\n",
       "      <td>653.914000</td>\n",
       "    </tr>\n",
       "    <tr>\n",
       "      <th>7</th>\n",
       "      <td>50000</td>\n",
       "      <td>826.433333</td>\n",
       "    </tr>\n",
       "  </tbody>\n",
       "</table>\n",
       "</div>"
      ],
      "text/plain": [
       "   particles      timing\n",
       "0        500    6.829580\n",
       "1       1000   11.741700\n",
       "2       5000   64.435600\n",
       "3      10000  118.836400\n",
       "4      20000  241.254000\n",
       "5      30000  360.562667\n",
       "6      40000  653.914000\n",
       "7      50000  826.433333"
      ]
     },
     "execution_count": 44,
     "metadata": {},
     "output_type": "execute_result"
    }
   ],
   "source": [
    "id14"
   ]
  },
  {
   "cell_type": "code",
   "execution_count": 45,
   "metadata": {},
   "outputs": [
    {
     "data": {
      "text/plain": [
       "Text(0, 0.5, 'Time per iteration (ms)')"
      ]
     },
     "execution_count": 45,
     "metadata": {},
     "output_type": "execute_result"
    },
    {
     "data": {
      "image/png": "[encoded data removed]",
      "text/plain": [
       "<Figure size 432x288 with 1 Axes>"
      ]
     },
     "metadata": {
      "needs_background": "light"
     },
     "output_type": "display_data"
    }
   ],
   "source": [
    "plt.plot(id11[\"particles\"], id11[\"timing\"])\n",
    "plt.plot(id12[\"particles\"], id12[\"timing\"])\n",
    "plt.plot(id13[\"particles\"], id13[\"timing\"])\n",
    "plt.plot(id14[\"particles\"], id14[\"timing\"])\n",
    "plt.legend([\"CPU\", \"GPU (naive)\", \"GPU (double buffered)\", \"GPU (ordered particles)\"])\n",
    "plt.xlabel(\"Number of particles\")\n",
    "plt.ylabel(\"Time per iteration (ms)\")"
   ]
  }
 ],
 "metadata": {
  "kernelspec": {
   "display_name": "Python 3",
   "language": "python",
   "name": "python3"
  },
  "language_info": {
   "codemirror_mode": {
    "name": "ipython",
    "version": 3
   },
   "file_extension": ".py",
   "mimetype": "text/x-python",
   "name": "python",
   "nbconvert_exporter": "python",
   "pygments_lexer": "ipython3",
   "version": "3.10.2"
  }
 },
 "nbformat": 4,
 "nbformat_minor": 2
}
