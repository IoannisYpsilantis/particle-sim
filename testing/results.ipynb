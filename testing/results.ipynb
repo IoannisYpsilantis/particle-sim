{
 "cells": [
  {
   "cell_type": "code",
   "execution_count": 111,
   "metadata": {},
   "outputs": [],
   "source": [
    "import numpy as np\n",
    "import matplotlib.pyplot as plt\n",
    "\n",
    "from correctness import *"
   ]
  },
  {
   "cell_type": "markdown",
   "metadata": {},
   "source": [
    "path, file1, file2 determine the runs being compared"
   ]
  },
  {
   "cell_type": "code",
   "execution_count": 112,
   "metadata": {},
   "outputs": [],
   "source": [
    "path = \"../particle-sim/data/\""
   ]
  },
  {
   "cell_type": "code",
   "execution_count": 113,
   "metadata": {},
   "outputs": [],
   "source": [
    "file1 = \"2024-04-30_23-00-49_CPU_8.txt\"\n",
    "file2 = \"2024-04-30_23-01-01_GPU_8.txt\""
   ]
  },
  {
   "cell_type": "code",
   "execution_count": 114,
   "metadata": {},
   "outputs": [
    {
     "data": {
      "text/html": [
       "<div>\n",
       "<style scoped>\n",
       "    .dataframe tbody tr th:only-of-type {\n",
       "        vertical-align: middle;\n",
       "    }\n",
       "\n",
       "    .dataframe tbody tr th {\n",
       "        vertical-align: top;\n",
       "    }\n",
       "\n",
       "    .dataframe thead th {\n",
       "        text-align: right;\n",
       "    }\n",
       "</style>\n",
       "<table border=\"1\" class=\"dataframe\">\n",
       "  <thead>\n",
       "    <tr style=\"text-align: right;\">\n",
       "      <th>name</th>\n",
       "      <th>particles</th>\n",
       "      <th>iterations</th>\n",
       "      <th>timing</th>\n",
       "      <th>doubleBuffer</th>\n",
       "      <th>device</th>\n",
       "    </tr>\n",
       "  </thead>\n",
       "  <tbody>\n",
       "    <tr>\n",
       "      <th>value</th>\n",
       "      <td>500</td>\n",
       "      <td>100</td>\n",
       "      <td>3675</td>\n",
       "      <td>0</td>\n",
       "      <td>CPU</td>\n",
       "    </tr>\n",
       "  </tbody>\n",
       "</table>\n",
       "</div>"
      ],
      "text/plain": [
       "name  particles iterations timing doubleBuffer device\n",
       "value       500        100   3675            0    CPU"
      ]
     },
     "metadata": {},
     "output_type": "display_data"
    },
    {
     "data": {
      "text/html": [
       "<div>\n",
       "<style scoped>\n",
       "    .dataframe tbody tr th:only-of-type {\n",
       "        vertical-align: middle;\n",
       "    }\n",
       "\n",
       "    .dataframe tbody tr th {\n",
       "        vertical-align: top;\n",
       "    }\n",
       "\n",
       "    .dataframe thead th {\n",
       "        text-align: right;\n",
       "    }\n",
       "</style>\n",
       "<table border=\"1\" class=\"dataframe\">\n",
       "  <thead>\n",
       "    <tr style=\"text-align: right;\">\n",
       "      <th>name</th>\n",
       "      <th>particles</th>\n",
       "      <th>iterations</th>\n",
       "      <th>timing</th>\n",
       "      <th>doubleBuffer</th>\n",
       "      <th>device</th>\n",
       "    </tr>\n",
       "  </thead>\n",
       "  <tbody>\n",
       "    <tr>\n",
       "      <th>value</th>\n",
       "      <td>500</td>\n",
       "      <td>100</td>\n",
       "      <td>716.13</td>\n",
       "      <td>0</td>\n",
       "      <td>GPU</td>\n",
       "    </tr>\n",
       "  </tbody>\n",
       "</table>\n",
       "</div>"
      ],
      "text/plain": [
       "name  particles iterations  timing doubleBuffer device\n",
       "value       500        100  716.13            0    GPU"
      ]
     },
     "metadata": {},
     "output_type": "display_data"
    }
   ],
   "source": [
    "header1, data1 = read_file(path + file1)\n",
    "header2, data2 = read_file(path + file2)\n",
    "\n",
    "data1 = data1.to_numpy()\n",
    "data2 = data2.to_numpy()\n",
    "\n",
    "display(header1)\n",
    "display(header2)"
   ]
  },
  {
   "cell_type": "code",
   "execution_count": 115,
   "metadata": {},
   "outputs": [
    {
     "data": {
      "text/plain": [
       "(True, [])"
      ]
     },
     "execution_count": 115,
     "metadata": {},
     "output_type": "execute_result"
    }
   ],
   "source": [
    "compare_positions(data1.shape[0], data1, data2)"
   ]
  },
  {
   "cell_type": "code",
   "execution_count": 116,
   "metadata": {},
   "outputs": [
    {
     "data": {
      "text/plain": [
       "array([[-1650000., -1199960.,  1738010.,  2000000.],\n",
       "       [-1967960.,  1287970.,  1618060.,  2000000.],\n",
       "       [  942000.,   198094., -1327960.,  2000000.],\n",
       "       ...,\n",
       "       [-1376000.,  1624000., -1414000.,  2000000.],\n",
       "       [  816000., -1190000., -1434000.,  2000000.],\n",
       "       [ -684000.,  1768000., -1486000.,  2000000.]])"
      ]
     },
     "execution_count": 116,
     "metadata": {},
     "output_type": "execute_result"
    }
   ],
   "source": [
    "data1"
   ]
  },
  {
   "cell_type": "code",
   "execution_count": 117,
   "metadata": {},
   "outputs": [
    {
     "data": {
      "text/plain": [
       "array([[-1650000., -1199960.,  1738010.,  2000000.],\n",
       "       [-1967960.,  1287970.,  1618060.,  2000000.],\n",
       "       [  942000.,   198094., -1327960.,  2000000.],\n",
       "       ...,\n",
       "       [-1376000.,  1624000., -1414000.,  2000000.],\n",
       "       [  816000., -1190000., -1434000.,  2000000.],\n",
       "       [ -684000.,  1768000., -1486000.,  2000000.]])"
      ]
     },
     "execution_count": 117,
     "metadata": {},
     "output_type": "execute_result"
    }
   ],
   "source": [
    "data2"
   ]
  },
  {
   "cell_type": "markdown",
   "metadata": {},
   "source": [
    "# Timings\n",
    "\n",
    "Given an id number, this assumes that all trials with same ID are identical except for number of particles in the simulation. \n",
    "\n",
    "Question: Does scaling the problem size matter? NO\n",
    "\n",
    "ID 11: CPU default\n",
    "\n",
    "\n",
    "\n"
   ]
  }
 ],
 "metadata": {
  "kernelspec": {
   "display_name": "Python 3",
   "language": "python",
   "name": "python3"
  },
  "language_info": {
   "codemirror_mode": {
    "name": "ipython",
    "version": 3
   },
   "file_extension": ".py",
   "mimetype": "text/x-python",
   "name": "python",
   "nbconvert_exporter": "python",
   "pygments_lexer": "ipython3",
   "version": "3.10.2"
  }
 },
 "nbformat": 4,
 "nbformat_minor": 2
}
