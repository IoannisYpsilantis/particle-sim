{
 "cells": [
  {
   "cell_type": "code",
   "execution_count": 1,
   "metadata": {},
   "outputs": [],
   "source": [
    "import numpy as np\n",
    "import matplotlib.pyplot as plt\n"
   ]
  },
  {
   "cell_type": "code",
   "execution_count": 2,
   "metadata": {},
   "outputs": [],
   "source": [
    "proton_mass = 1.6726219e-27\n",
    "distance_scale = 1e-12\n",
    "timeStep = 1e-9\n",
    "\n",
    "scale_factor = 1e-15 / distance_scale\n",
    "\n",
    "proton_electron_ratio = 1836.15267343"
   ]
  },
  {
   "cell_type": "markdown",
   "metadata": {},
   "source": [
    "## Working Theory\n",
    "\n",
    "My main problem with the proton electron only model is how to we keep the balance of some electrons within the nucleus and others outside the nucleus. Basically there's a big balancing act that needs to be accounted for. Frankly this method has the same balancing act, the main difference is I don't need to come up with a strong potential between a electron and proton since in reality it does not exist.\n",
    "\n",
    "Here I'm thinking about reintroducing a neutron. \n",
    "\n",
    "1. Coulomb force between protons and electrons exist as expected\n",
    "\n",
    "2. Strong forces are only calculated bewteen Protons and Neutrons. It is modeling with the yukawa equation. Which is inverse on radius with exponential decay. \n",
    "\n",
    "3. The only force acting on neutrons are the stong forces, which by design will only for a tight radius. A neutron should essentially move solely by a proton it is latched to. \n",
    "\n",
    "Electrons are not forced to be away from the nucleus. I decided to leave it like this because it actually seems closer to the actually electron interaction. We don't know where the electron is exactly, it just within a cloud around the nucleus. It can be really close or it can be farther away. The electron will want to get really close to a nucleus but it should move past it then get it's movement reset. If we opt to have a close cutoff for electrons, then interaction will be much clearer. "
   ]
  },
  {
   "cell_type": "markdown",
   "metadata": {},
   "source": [
    "# Number Specifics"
   ]
  },
  {
   "cell_type": "markdown",
   "metadata": {},
   "source": [
    "## Yukawa specifics\n",
    "\n",
    "The yukawa equation can actually be easily transformed for coulomb potential, it's just equation however the exponent is always 0 (massless system) then it is solely inverse of radius.\n",
    "\n",
    "R represents the radius of the force. What is the range it is expected to strongest in. Force strong force this has been called 1.4 fm. Or $1.4e-15$ meters. Since the calculations are in nanometers, this is scaled to $1.4e-6$. The best I could find in terms of value for the front of the scalar was \"obtained experimentally\" so. As seen above I did just that. I numerically found the value for the scalar s.t. the force strong force balanced perfectly with the coulomb force between two protons at exactly 3 femtometers."
   ]
  },
  {
   "cell_type": "markdown",
   "metadata": {},
   "source": [
    "## Coulomb specifics\n",
    "\n",
    "Values references [this](http://labman.phys.utk.edu/phys222core/modules/m1/Electric%20Forces.html) website\n",
    "\n",
    "$\\epsilon_0 = 8.854187817e{-12}$\n",
    "\n",
    "This means that $\\dfrac{1}{4\\pi\\epsilon_0} = k_e = 9e9$ \n",
    "This value is in Newton meters squared per coloumb squared. It is necessary to scale this to our problem.\n",
    "\n",
    "1. The distance between a proton and a neutron intra nucleus is 3 fentometers ($3e{-15}$ meters) which you need to multiply by this value squared. Having a decimal with 21 zeros is no good for calculation.\n",
    "\n",
    "2. The distance between Hydrogen atoms is 110 picometers ($110e{-12}$ meters) at a minimum. \n",
    "\n",
    "The primary issue is if we use decimals that are too small we will get major error due to precision. \n",
    "\n",
    "In the coloumb equation qe = $1.602176634e{-19}$ In meters, assuming a radius of 1 meter this equation is practically useless. We need to scale this down based on both the size of the problem and also the amount of decimals we have at our disposal. \n",
    "\n",
    "Since the particles will just change qe's to be positive or negative we can precompute. Additionally, we want to scale to a relevant value. In femtometers this is: $2.310272969e2$ in picometers $2.31e-4$"
   ]
  },
  {
   "cell_type": "code",
   "execution_count": 3,
   "metadata": {},
   "outputs": [
    {
     "data": {
      "text/plain": [
       "0.00023102729698820125"
      ]
     },
     "execution_count": 3,
     "metadata": {},
     "output_type": "execute_result"
    }
   ],
   "source": [
    "scalar = 9e9 * 1.602176634e-19 * 1.602176634e-19 / (distance_scale * distance_scale)\n",
    "scalar"
   ]
  },
  {
   "cell_type": "markdown",
   "metadata": {},
   "source": [
    "## Strong forces\n",
    "\n",
    "I need to test the constant for strong forces, the Yukawa potential seems like a good place to explore so I'll aim for that. (Which is also nice because if you change the constants you also get the coulomb forces, another aspect we need!)\n",
    "\n",
    "I have two reasons to explore the proper constants:\n",
    "\n",
    "1. In true theory, the strong force has two forms, inside a proton/neutron (inside a hadron) which remains constant or between a proton-neutron specifically this form, the one we need has exponential decay from about 1 fentometer to 3 fentometers. The strong force between the proton-neutron is represented as the transfer of a pion (a \"meson\" that is roughly between the mass of a proton and electron) between the neutron and proton. The proton-proton strong force is actually weaker than their electromagnetic force at the distance which leads into problem 2.\n",
    "\n",
    "2. The strong forces need to be strong enough to outplay electromagnetic forces (binding a nucleus together) but also not so strong that a nucleus simply becomes a \"black hole\" Under normal conditions, particles within 3 fentometers should stay together, but outside of that range should stay apart. "
   ]
  },
  {
   "cell_type": "code",
   "execution_count": 4,
   "metadata": {},
   "outputs": [],
   "source": [
    "def yukawa_potential(r, C, R, lower_cutoff = 0.8e-6):\n",
    "    return -C * np.exp(-r / R) / r\n",
    "\n",
    "def coulomb_potential(r, scalar, q1, q2):\n",
    "    return scalar * q1 * q2 / r"
   ]
  },
  {
   "cell_type": "code",
   "execution_count": 5,
   "metadata": {},
   "outputs": [
    {
     "name": "stdout",
     "output_type": "stream",
     "text": [
      "0.001969220415380366\n",
      "8.604228440844963e-16\n"
     ]
    },
    {
     "data": {
      "image/png": "[encoded data removed]",
      "text/plain": [
       "<Figure size 432x288 with 1 Axes>"
      ]
     },
     "metadata": {
      "needs_background": "light"
     },
     "output_type": "display_data"
    },
    {
     "name": "stdout",
     "output_type": "stream",
     "text": [
      "-0.964015430178737\n",
      "0.23102729698820124\n"
     ]
    }
   ],
   "source": [
    "C = 1 #Needs to be experimentally determined. Here we'll just force it so that the coloumb and yukawa potentials balance as 3 femtometers.\n",
    "\n",
    "#I've seen this as 1.4e-15, here I've used 1.4e-3 since radius is in pm right now.\n",
    "\n",
    "R = 1.4 * scale_factor #This is the distance we expect the strong force to start becoming very insignificant.\n",
    "\n",
    "#In all equations I think epsilon_0 should hold, given this is a well used constant.\n",
    "q1 = 1\n",
    "q2 = 1\n",
    "# plt.plot(x, y2, label='Coulomb potential')\n",
    "\n",
    "mod = 1\n",
    "\n",
    "switch_value = 3 * scale_factor\n",
    "while True:\n",
    "    error = yukawa_potential(switch_value, C, R) + coulomb_potential(switch_value, scalar, q1, q2)\n",
    "    if np.abs(error) < 1e-15 or mod < 1e-10:\n",
    "        break\n",
    "    if error > 0:\n",
    "        C += .1 * mod\n",
    "    else:\n",
    "        C -= .1 * mod\n",
    "    mod *= 0.999\n",
    "\n",
    "print(C)\n",
    "print(error)\n",
    "\n",
    "x = np.linspace(1 * scale_factor, 10 * scale_factor, 100)\n",
    "y = yukawa_potential(x, C, R)\n",
    "plt.plot(x, -y, label='Yukawa potential', color='red')\n",
    "\n",
    "y2 = coulomb_potential(x, scalar, q1, q2)\n",
    "\n",
    "plt.plot(x, y2, label='Coulomb potential', color=\"blue\")\n",
    "\n",
    "# plt.plot(x, y + y2, label='Total potential')\n",
    "\n",
    "plt.legend()\n",
    "\n",
    "#Make log scale\n",
    "# plt.yscale('log')\n",
    "\n",
    "\n",
    "\n",
    "plt.show()\n",
    "\n",
    "print(min(y))\n",
    "print(max(y2))\n",
    "\n",
    "\n",
    "\n",
    "#The exact value needs to be tuned to interplay well with coloumb forces\n"
   ]
  },
  {
   "cell_type": "code",
   "execution_count": 6,
   "metadata": {},
   "outputs": [
    {
     "name": "stdout",
     "output_type": "stream",
     "text": [
      "yukawa_scalar: 0.001969220415380366\n",
      "coulomb_scalar: 0.00023102729698820125\n",
      "yukawa_radius: 0.0014\n"
     ]
    }
   ],
   "source": [
    "print(\"yukawa_scalar:\", C)\n",
    "print(\"coulomb_scalar:\", scalar)\n",
    "print(\"yukawa_radius:\", R)"
   ]
  },
  {
   "cell_type": "markdown",
   "metadata": {},
   "source": [
    "Precompue mass and meters.\n",
    "\n",
    "Forces are in N's or kg * m / s^2. Rather than calculating the force in newton's, we can scale the mass to 1AU (the size of a proton) and the distance step defined in our simulation (currently nanometers). By doing this before hand we should be able to avoid some precision issues. Additionally, it should help with the very small timestep."
   ]
  },
  {
   "cell_type": "code",
   "execution_count": 7,
   "metadata": {},
   "outputs": [
    {
     "name": "stdout",
     "output_type": "stream",
     "text": [
      "yukawa_precompute:  1177325500389.757\n",
      "coulomb_precompute:  138122845927.22433\n"
     ]
    }
   ],
   "source": [
    "\n",
    "\n",
    "C_new = C / proton_mass * distance_scale\n",
    "print(\"yukawa_precompute: \", C_new)\n",
    "\n",
    "scalar_new = scalar / proton_mass * distance_scale\n",
    "print(\"coulomb_precompute: \", scalar_new)"
   ]
  },
  {
   "cell_type": "markdown",
   "metadata": {},
   "source": [
    "Let's verify that the forces are still equal at 3 femtometers for the new constants:"
   ]
  },
  {
   "cell_type": "code",
   "execution_count": 8,
   "metadata": {},
   "outputs": [
    {
     "data": {
      "image/png": "[encoded data removed]",
      "text/plain": [
       "<Figure size 432x288 with 1 Axes>"
      ]
     },
     "metadata": {
      "needs_background": "light"
     },
     "output_type": "display_data"
    }
   ],
   "source": [
    "\n",
    "x = np.linspace(1 * scale_factor, 10 * scale_factor, 100)\n",
    "\n",
    "y = yukawa_potential(x, C_new, R)\n",
    "plt.plot(x, -y, label='Yukawa potential', color='red')\n",
    "\n",
    "y2 = coulomb_potential(x, scalar_new, q1, q2)\n",
    "\n",
    "plt.plot(x, y2, label='Coulomb potential', color=\"blue\")\n",
    "\n",
    "plt.legend()\n",
    "\n",
    "plt.show()"
   ]
  },
  {
   "cell_type": "code",
   "execution_count": 9,
   "metadata": {},
   "outputs": [
    {
     "data": {
      "image/png": "[encoded data removed]",
      "text/plain": [
       "<Figure size 432x288 with 1 Axes>"
      ]
     },
     "metadata": {
      "needs_background": "light"
     },
     "output_type": "display_data"
    },
    {
     "name": "stdout",
     "output_type": "stream",
     "text": [
      "0.050101341013410135\n"
     ]
    }
   ],
   "source": [
    "x = np.linspace(1 * scale_factor, 1000 * scale_factor, 100000)\n",
    "\n",
    "y = yukawa_potential(x, C_new, R)\n",
    "\n",
    "plt.plot(x, y, label='Force', color='red')\n",
    "plt.show()\n",
    "\n",
    "#Print the first value of x has a force of 1e10 Au * nm / sec^2\n",
    "print(x[np.argmin(np.abs(y*timeStep*timeStep - 1e-4))])\n",
    "\n",
    "#Since the force is 1e10 Au * nm / sec^2 and we have a timeStep of 1e-9. The change in position will be roughly\n",
    "#1e-8 nm. I think this is sufficiently insignificant that we can cutoff the force at this point."
   ]
  },
  {
   "cell_type": "code",
   "execution_count": 10,
   "metadata": {},
   "outputs": [
    {
     "data": {
      "image/png": "[encoded data removed]",
      "text/plain": [
       "<Figure size 432x288 with 1 Axes>"
      ]
     },
     "metadata": {
      "needs_background": "light"
     },
     "output_type": "display_data"
    },
    {
     "name": "stdout",
     "output_type": "stream",
     "text": [
      "2.5\n"
     ]
    }
   ],
   "source": [
    "x = np.linspace(1e-1, 10000, 100000)\n",
    "\n",
    "y = coulomb_potential(x, scalar_new, q1, q2) * proton_electron_ratio\n",
    "\n",
    "plt.plot(x, y, label='Force', color='red')\n",
    "plt.show()\n",
    "\n",
    "#Print the first value of x has a force of 1e10 Au * nm / sec^2\n",
    "print(x[np.argmin(np.abs(y*timeStep*timeStep - 1e-4))])"
   ]
  },
  {
   "cell_type": "code",
   "execution_count": 11,
   "metadata": {},
   "outputs": [
    {
     "name": "stdout",
     "output_type": "stream",
     "text": [
      "coulomb_scalar: 1.381228459E+11\n",
      "yukawa_scalar: -1.177325500E+12\n",
      "yukawa_radius: 1.4E-03\n",
      "yukawwa_cutoff: 8.0E-04\n",
      "timeStep:  1e-09\n"
     ]
    }
   ],
   "source": [
    "print(\"coulomb_scalar: {:.9E}\".format(scalar_new))\n",
    "print(\"yukawa_scalar: {:.9E}\".format(-C_new))\n",
    "print(\"yukawa_radius: {:.1E}\".format(R))\n",
    "print(\"yukawwa_cutoff: {:.1E}\".format(0.8 * scale_factor))\n",
    "print(\"timeStep: \", timeStep)"
   ]
  },
  {
   "cell_type": "markdown",
   "metadata": {},
   "source": [
    "Based on the input values, these are the constants that should be used to balance the simulation."
   ]
  }
 ],
 "metadata": {
  "kernelspec": {
   "display_name": "Python 3",
   "language": "python",
   "name": "python3"
  },
  "language_info": {
   "codemirror_mode": {
    "name": "ipython",
    "version": 3
   },
   "file_extension": ".py",
   "mimetype": "text/x-python",
   "name": "python",
   "nbconvert_exporter": "python",
   "pygments_lexer": "ipython3",
   "version": "3.10.2"
  }
 },
 "nbformat": 4,
 "nbformat_minor": 2
}
